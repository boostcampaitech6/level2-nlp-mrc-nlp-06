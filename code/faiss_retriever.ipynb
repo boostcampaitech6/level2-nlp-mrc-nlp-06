{
 "cells": [
  {
   "cell_type": "code",
   "execution_count": null,
   "metadata": {},
   "outputs": [],
   "source": [
    "!pip install tqdm==4.64.1 -q\n",
    "!pip install datasets==2.7.0 -q\n",
    "!pip install transformers==4.24.0 -q\n",
    "!pip install faiss-cpu -q"
   ]
  },
  {
   "cell_type": "code",
   "execution_count": null,
   "metadata": {},
   "outputs": [],
   "source": []
  }
 ],
 "metadata": {
  "language_info": {
   "name": "python"
  }
 },
 "nbformat": 4,
 "nbformat_minor": 2
}
