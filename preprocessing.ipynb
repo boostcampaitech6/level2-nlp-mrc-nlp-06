{
 "cells": [
  {
   "cell_type": "code",
   "execution_count": 2,
   "metadata": {},
   "outputs": [
    {
     "name": "stderr",
     "output_type": "stream",
     "text": [
      "/opt/conda/lib/python3.10/site-packages/tqdm/auto.py:21: TqdmWarning: IProgress not found. Please update jupyter and ipywidgets. See https://ipywidgets.readthedocs.io/en/stable/user_install.html\n",
      "  from .autonotebook import tqdm as notebook_tqdm\n"
     ]
    },
    {
     "name": "stdout",
     "output_type": "stream",
     "text": [
      "DatasetDict({\n",
      "    train: Dataset({\n",
      "        features: ['title', 'context', 'question', 'id', 'answers', 'document_id', '__index_level_0__'],\n",
      "        num_rows: 3952\n",
      "    })\n",
      "    validation: Dataset({\n",
      "        features: ['title', 'context', 'question', 'id', 'answers', 'document_id', '__index_level_0__'],\n",
      "        num_rows: 240\n",
      "    })\n",
      "})\n"
     ]
    }
   ],
   "source": [
    "from datasets import load_from_disk\n",
    "dataset = load_from_disk(\"../data/train_dataset/\")\n",
    "print(dataset)"
   ]
  },
  {
   "cell_type": "markdown",
   "metadata": {},
   "source": [
    "반각 문자 변환"
   ]
  },
  {
   "cell_type": "code",
   "execution_count": 71,
   "metadata": {},
   "outputs": [],
   "source": [
    "import re\n",
    "import unicodedata\n",
    "from datasets import DatasetDict\n",
    "\n",
    "def normalize_context(\n",
    "          dataset: DatasetDict\n",
    ") -> DatasetDict:\n",
    "     '''\n",
    "     dataset의 context를 반각 문자로 변환\n",
    "     '''\n",
    "     def normalize(example):\n",
    "          return {\"context\": unicodedata.normalize('NFKC', example['context'])}\n",
    "     return normalize(dataset)"
   ]
  },
  {
   "cell_type": "code",
   "execution_count": 18,
   "metadata": {},
   "outputs": [],
   "source": [
    "def normalize_answer(\n",
    "        dataset: DatasetDict\n",
    ") -> DatasetDict:\n",
    "      '''\n",
    "      dataset의 answer를 반각 문자로 변환\n",
    "      '''\n",
    "      def normalize(example):\n",
    "        example['answers']['text'][0]=unicodedata.normalize('NFKC', example['answers']['text'][0])\n",
    "        return {\"answers\": example['answers']}\n",
    "      return normalize(dataset)"
   ]
  },
  {
   "cell_type": "code",
   "execution_count": 19,
   "metadata": {},
   "outputs": [],
   "source": [
    "def normalize_question(\n",
    "          dataset: DatasetDict\n",
    ") -> DatasetDict:\n",
    "     '''\n",
    "     dataset의 question을 반각 문자로 변환\n",
    "     '''\n",
    "     def normalize(example):\n",
    "        return {\"question\": unicodedata.normalize('NFKC', example['question'])}\n",
    "     return normalize(dataset)"
   ]
  },
  {
   "cell_type": "markdown",
   "metadata": {},
   "source": [
    "특수문자 제거"
   ]
  },
  {
   "cell_type": "code",
   "execution_count": 72,
   "metadata": {},
   "outputs": [],
   "source": [
    "def sub_text(\n",
    "          text: str\n",
    ") -> str:\n",
    "        cp = re.compile('\\\\\\\\n|\\*|\\\\n|\\\\|#')\n",
    "        \n",
    "        text = re.sub(r\"[“”‘’]\", \"\\'\", text)\n",
    "        text = re.sub(r\"[〈<＜「≪《『]\", \"<\", text)\n",
    "        text = re.sub(r\"[〉>＞」≫》』]\", \">\", text)\n",
    "        text = cp.sub('', text)\n",
    "        return text"
   ]
  },
  {
   "cell_type": "code",
   "execution_count": 29,
   "metadata": {},
   "outputs": [],
   "source": [
    "def dataset_sub_context(\n",
    "        dataset: DatasetDict\n",
    ") -> DatasetDict:\n",
    "    '''\n",
    "    dataset 내의 context에 포함되어 있는 특수문자 제거 \n",
    "    '''\n",
    "    def sub(example):\n",
    "        answer_start = example['answers']['answer_start'][0]\n",
    "        new_answer_start = len(sub_text(example['context'][:answer_start]))\n",
    "        example['answers']['answer_start'][0] = new_answer_start\n",
    "        return {\"context\": sub_text(example['context']), \"answers\": example['answers']}\n",
    "    return sub(dataset)"
   ]
  },
  {
   "cell_type": "code",
   "execution_count": 73,
   "metadata": {},
   "outputs": [
    {
     "name": "stderr",
     "output_type": "stream",
     "text": [
      "Map: 100%|██████████| 3952/3952 [00:00<00:00, 4545.77 examples/s]\n",
      "Map: 100%|██████████| 240/240 [00:00<00:00, 4692.18 examples/s]\n"
     ]
    }
   ],
   "source": [
    "preprocessed_dataset = dataset.map(normalize_context).map(normalize_answer).map(normalize_question).map(dataset_sub_context)"
   ]
  },
  {
   "cell_type": "markdown",
   "metadata": {},
   "source": [
    "기존 경로에 데이터셋 저장"
   ]
  },
  {
   "cell_type": "code",
   "execution_count": 74,
   "metadata": {},
   "outputs": [
    {
     "name": "stderr",
     "output_type": "stream",
     "text": [
      "Saving the dataset (1/1 shards): 100%|██████████| 3952/3952 [00:00<00:00, 50381.42 examples/s]\n",
      "Saving the dataset (1/1 shards): 100%|██████████| 240/240 [00:00<00:00, 34139.35 examples/s]\n"
     ]
    }
   ],
   "source": [
    "preprocessed_dataset.save_to_disk(\"../data/train_dataset/\")"
   ]
  }
 ],
 "metadata": {
  "kernelspec": {
   "display_name": "base",
   "language": "python",
   "name": "python3"
  },
  "language_info": {
   "codemirror_mode": {
    "name": "ipython",
    "version": 3
   },
   "file_extension": ".py",
   "mimetype": "text/x-python",
   "name": "python",
   "nbconvert_exporter": "python",
   "pygments_lexer": "ipython3",
   "version": "3.10.13"
  }
 },
 "nbformat": 4,
 "nbformat_minor": 2
}
